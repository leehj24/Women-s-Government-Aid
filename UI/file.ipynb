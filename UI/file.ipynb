{
 "cells": [
  {
   "cell_type": "code",
   "execution_count": 8,
   "id": "1ec1f2c3",
   "metadata": {},
   "outputs": [
    {
     "name": "stdout",
     "output_type": "stream",
     "text": [
      "Empty DataFrame\n",
      "Columns: [대상유형, 지역, 제목, detail_url, 신청기간, 신청방법, 접수기관, 지원형태, 지원대상, 지원내용, 문의처, 기타, 카테고리_분류, 지원형태_분류, 지원대상_원문, 지원대상_초벌요약, 지원내용_원문, 지원내용_초벌요약, age_eff_ranges, age_has_rule]\n",
      "Index: []\n"
     ]
    }
   ],
   "source": [
    "import pandas as pd\n",
    "\n",
    "# 파일 경로\n",
    "path_merged = r\"C:\\Users\\hyunj\\Desktop\\new_fold\\women_search_UI\\UI\\여성맞춤정책_요약_2차_결과_병합.xlsx\"\n",
    "path_organized = r\"C:\\Users\\hyunj\\Desktop\\new_fold\\women_search_UI\\UI\\여성맞춤정책_요약_2차_결과_정리.xlsx\"\n",
    "\n",
    "# 파일 불러오기\n",
    "df_merged = pd.read_excel(path_merged)\n",
    "df_organized = pd.read_excel(path_organized)\n",
    "\n",
    "# 비교 기준 열\n",
    "key_cols = [\"대상유형\", \"지역\", \"제목\", \"detail_url\", \"신청기간\", \"신청방법\", \"접수기관\", \"지원형태\", \"지원대상\", \"지원내용\"]\n",
    "\n",
    "# 문자열 정제 함수\n",
    "def clean_str(x):\n",
    "    if pd.isna(x):\n",
    "        return \"\"\n",
    "    return str(x).strip().lower().replace(\"\\n\", \"\").replace(\"\\r\", \"\").replace(\" \", \"\")\n",
    "\n",
    "# 기준 열 정제\n",
    "for col in key_cols:\n",
    "    df_merged[col] = df_merged[col].apply(clean_str)\n",
    "    df_organized[col] = df_organized[col].apply(clean_str)\n",
    "\n",
    "# 병합 기준으로 row_key 생성\n",
    "df_merged[\"row_key\"] = df_merged[key_cols].agg(\"|\".join, axis=1)\n",
    "df_organized[\"row_key\"] = df_organized[key_cols].agg(\"|\".join, axis=1)\n",
    "\n",
    "# 병합 파일 기준으로 정리 파일과 완전히 같은 행 제거\n",
    "merged_only_diff = df_merged[~df_merged[\"row_key\"].isin(df_organized[\"row_key\"])]\n",
    "\n",
    "# 결과 출력\n",
    "print(merged_only_diff.drop(columns=[\"row_key\"]))\n"
   ]
  },
  {
   "cell_type": "code",
   "execution_count": 10,
   "id": "637d9fbe",
   "metadata": {},
   "outputs": [
    {
     "name": "stdout",
     "output_type": "stream",
     "text": [
      "원래 행 수: 1322\n",
      "유니크 행 수: 1292\n"
     ]
    }
   ],
   "source": [
    "import pandas as pd\n",
    "\n",
    "# 병합 파일 경로\n",
    "PATH_MERGED = r\"C:\\Users\\hyunj\\Desktop\\new_fold\\women_search_UI\\UI\\여성맞춤정책_요약_2차_결과_병합.xlsx\"\n",
    "\n",
    "# 기준 열 정의\n",
    "KEY_COLS = [\"대상유형\", \"지역\", \"제목\", \"detail_url\", \"신청기간\", \"신청방법\", \"접수기관\", \"지원형태\", \"지원대상\", \"지원내용\"]\n",
    "\n",
    "# 파일 불러오기\n",
    "df = pd.read_excel(PATH_MERGED)\n",
    "\n",
    "# 문자열 정제 함수\n",
    "def clean_str(x):\n",
    "    if pd.isna(x):\n",
    "        return \"\"\n",
    "    return str(x).strip().lower().replace(\"\\n\", \"\").replace(\"\\r\", \"\").replace(\" \", \"\")\n",
    "\n",
    "# 기준 열 정제\n",
    "for col in KEY_COLS:\n",
    "    if col in df.columns:\n",
    "        df[col] = df[col].apply(clean_str)\n",
    "\n",
    "# row_key 생성\n",
    "df[\"row_key\"] = df[KEY_COLS].agg(\"|\".join, axis=1)\n",
    "\n",
    "# 중복 제거 (첫 번째 행만 남김)\n",
    "df_unique = df.drop_duplicates(subset=[\"row_key\"], keep=\"first\").drop(columns=[\"row_key\"])\n",
    "\n",
    "# 결과 저장 (선택)\n",
    "df_unique.to_excel(\"여성맞춤정책_요약_병합_최종.xlsx\", index=False)\n",
    "\n",
    "# 결과 확인\n",
    "print(f\"원래 행 수: {len(df)}\")\n",
    "print(f\"유니크 행 수: {len(df_unique)}\")\n"
   ]
  }
 ],
 "metadata": {
  "kernelspec": {
   "display_name": "env1",
   "language": "python",
   "name": "python3"
  },
  "language_info": {
   "codemirror_mode": {
    "name": "ipython",
    "version": 3
   },
   "file_extension": ".py",
   "mimetype": "text/x-python",
   "name": "python",
   "nbconvert_exporter": "python",
   "pygments_lexer": "ipython3",
   "version": "3.12.11"
  }
 },
 "nbformat": 4,
 "nbformat_minor": 5
}
